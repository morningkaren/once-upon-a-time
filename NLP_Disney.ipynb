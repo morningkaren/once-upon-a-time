{
 "cells": [
  {
   "cell_type": "markdown",
   "metadata": {},
   "source": [
    "## Table of Contents\n",
    "\n",
    "2. <a href='#clean'>Clean Data, Lemmatize, POS Functions</a>\n",
    "\n",
    "\n",
    "3. <a href='#sentiment'>Sentiment Analysis and Dynamic Time Warping Example w/ Sentiment Matrix</a>\n",
    "\n",
    "    3.1. <a href='#sentiment2'>Sentiment Matrix</a>\n",
    "    \n",
    "\n",
    "4. <a href='#nmf'>NMF Topic Modeling w/ Cosine Similarity</a>\n",
    "\n",
    "    4.1. <a href='#weights'>Get Weights for Model</a>\n",
    "    \n",
    "    4.2. <a href='#cosine'>Cosine Similarity Scores</a>\n",
    "    \n",
    "\n",
    "5. <a href='#recommendation'>Recommendation System: Sentiment and Cosine Similarity Matrix</a>\n"
   ]
  },
  {
   "cell_type": "markdown",
   "metadata": {},
   "source": [
    "## Clean Data, Lemmatize, POS Functions\n",
    "<a id='clean'></a>"
   ]
  },
  {
   "cell_type": "code",
   "execution_count": null,
   "metadata": {},
   "outputs": [],
   "source": [
    "import pandas as pd\n",
    "import numpy as np\n",
    "import string\n",
    "import re\n",
    "import pickle\n",
    "from nltk.stem import WordNetLemmatizer\n",
    "from nltk.corpus import wordnet\n",
    "import nltk\n",
    "\n",
    "lemmatizer = WordNetLemmatizer()"
   ]
  },
  {
   "cell_type": "code",
   "execution_count": null,
   "metadata": {},
   "outputs": [],
   "source": [
    "#function used to clean the story/script before sentiment analysis and dynamic time warping techniques\n",
    "def clean3(story):\n",
    "    story = open(story, \"r\")\n",
    "    regex = re.compile('[%s]' % re.escape('\"#$%&\\()*+-/:;<=>@[\\\\]^_`{|}~'))\n",
    "    out = regex.sub(' ', story.read())\n",
    "    out = out.replace('\\n',' ')\n",
    "    out = out.replace('\\x0c', '')\n",
    "    out = out.replace('\\t', '')\n",
    "    return out"
   ]
  },
  {
   "cell_type": "code",
   "execution_count": null,
   "metadata": {},
   "outputs": [],
   "source": [
    "#function used to clean the story/script before topic modeling\n",
    "def clean(story):\n",
    "    story = open(story, \"r\")\n",
    "    regex = re.compile('[%s]' % re.escape(string.punctuation))\n",
    "    out = regex.sub(' ', story.read())\n",
    "    out = out.replace('’', '')\n",
    "    out = out.replace('—', '')\n",
    "    out = out.replace('‘', '')\n",
    "    out = out.replace('\\n',' ')\n",
    "    out = out.replace('\\x0c', ' ')\n",
    "    out = out.lower()\n",
    "    out = out.replace('\\t', ' ')\n",
    "    out = re.sub(\"\\d+\", \"\", out)\n",
    "    out = out.replace('”', '')\n",
    "    out = out.replace ('“', '')\n",
    "    return out"
   ]
  },
  {
   "cell_type": "code",
   "execution_count": null,
   "metadata": {},
   "outputs": [],
   "source": [
    "#function used to do parts of speech tagging, keeping only nouns and adjectives. \n",
    "def get_wordnet_pos(word):\n",
    "    \"\"\"Map POS tag to first character lemmatize() accepts\"\"\"\n",
    "    tag = nltk.pos_tag([word])[0][1][0].upper()\n",
    "    tag_dict = {\"J\": wordnet.ADJ,\n",
    "                \"N\": wordnet.NOUN,\n",
    "                #\"V\": wordnet.VERB,\n",
    "                #\"R\": wordnet.ADV}\n",
    "\n",
    "    return tag_dict.get(tag, wordnet.NOUN)"
   ]
  },
  {
   "cell_type": "code",
   "execution_count": null,
   "metadata": {},
   "outputs": [],
   "source": [
    "#function to lemmatize text.\n",
    "def lem(txtfile):\n",
    "    d = clean(txtfile)\n",
    "    d_ = ' '.join([lemmatizer.lemmatize(w, get_wordnet_pos(w)) for w in d.split()])\n",
    "    return d_"
   ]
  },
  {
   "cell_type": "markdown",
   "metadata": {},
   "source": [
    "## Sentiment Analysis and Dynamic Time Warping Example w/ Sentiment Matrix\n",
    "<a id='sentiment'></a>"
   ]
  },
  {
   "cell_type": "code",
   "execution_count": 1,
   "metadata": {
    "ExecuteTime": {
     "end_time": "2019-09-17T00:16:15.726045Z",
     "start_time": "2019-09-17T00:16:09.952668Z"
    }
   },
   "outputs": [],
   "source": [
    "import nltk\n",
    "import pickle\n",
    "from nltk.sentiment.vader import SentimentIntensityAnalyzer\n",
    "from nltk import tokenize\n",
    "import matplotlib.pyplot as plt\n",
    "%matplotlib inline\n",
    "sid = SentimentIntensityAnalyzer()\n",
    "from tslearn.metrics import dtw_path \n",
    "import pandas as pd"
   ]
  },
  {
   "cell_type": "code",
   "execution_count": 2,
   "metadata": {
    "ExecuteTime": {
     "end_time": "2019-09-17T00:16:15.739115Z",
     "start_time": "2019-09-17T00:16:15.729305Z"
    }
   },
   "outputs": [],
   "source": [
    "#function to give sentiment scores to each line/sentence of the script/story\n",
    "def sent_df(pklfile):\n",
    "    with open(pklfile, 'rb') as pkl:\n",
    "        a = pickle.load(pkl)\n",
    "    a = tokenize.sent_tokenize(a)\n",
    "    df = pd.DataFrame()\n",
    "    df['sentence'] = [sentence for sentence in a]\n",
    "    df['sentiment'] = [sid.polarity_scores(sentence)['compound'] for sentence in a]\n",
    "    a_ = df['sentiment']\n",
    "    print(str(pklfile), len(a))\n",
    "    return a_"
   ]
  },
  {
   "cell_type": "code",
   "execution_count": 3,
   "metadata": {
    "ExecuteTime": {
     "end_time": "2019-09-17T00:16:15.746374Z",
     "start_time": "2019-09-17T00:16:15.742069Z"
    }
   },
   "outputs": [],
   "source": [
    "#function to get the dynamic time warping distance\n",
    "#compares two text file's sentiment similarity over time.\n",
    "def dist(df1, df2):\n",
    "    path, dist = dtw_path(df1, df2)\n",
    "    print(len(df1), len(df2), len(df1)-len(df2))\n",
    "    return dist"
   ]
  },
  {
   "cell_type": "code",
   "execution_count": 4,
   "metadata": {
    "ExecuteTime": {
     "end_time": "2019-09-17T00:16:21.175620Z",
     "start_time": "2019-09-17T00:16:15.748714Z"
    }
   },
   "outputs": [
    {
     "name": "stdout",
     "output_type": "stream",
     "text": [
      "hunchback3.pkl 8665\n",
      "hunchback3.pkl 8665\n",
      "hunchback_script3.pkl 1134\n",
      "hunchback_script3.pkl 1134\n"
     ]
    },
    {
     "data": {
      "image/png": "[encoded data removed]",
      "text/plain": [
       "<Figure size 576x288 with 2 Axes>"
      ]
     },
     "metadata": {
      "needs_background": "light"
     },
     "output_type": "display_data"
    }
   ],
   "source": [
    "#an example comparing Hunchback of Notre Dame movie and story\n",
    "\n",
    "fig, ax1 = plt.subplots(figsize = (8,4))\n",
    "ax1.title.set_text('Hunchback of Notre Dame')\n",
    "\n",
    "\n",
    "color = 'tab:red'\n",
    "ax1.set_xlabel('sentence number', color = color)\n",
    "ax1.set_ylabel('sentiment')\n",
    "ax1.plot(range(8665), sent_df('hunchback3.pkl').rolling(len(sent_df('hunchback3.pkl'))//20).mean(), color=color)\n",
    "ax1.tick_params(axis='x', labelcolor=color)\n",
    "\n",
    "ax2 = ax1.twiny()  # instantiate a second axes that shares the same x-axis\n",
    "\n",
    "color = 'tab:blue'\n",
    "ax2.set_xlabel('line number', color = color)\n",
    "#ax2.set_ylabel('sin', color=color)  # we already handled the x-label with ax1\n",
    "ax2.plot(range(1134), sent_df('hunchback_script3.pkl').rolling(len(sent_df('hunchback_script3.pkl'))//20).mean(), color=color)\n",
    "ax2.tick_params(axis='x', labelcolor=color)\n",
    "\n",
    "fig.tight_layout()  # otherwise the right y-label is slightly clipped\n",
    "plt.show()"
   ]
  },
  {
   "cell_type": "code",
   "execution_count": 5,
   "metadata": {
    "ExecuteTime": {
     "end_time": "2019-09-17T00:16:30.915307Z",
     "start_time": "2019-09-17T00:16:21.177450Z"
    }
   },
   "outputs": [
    {
     "name": "stdout",
     "output_type": "stream",
     "text": [
      "hunchback3.pkl 8665\n",
      "hunchback_script3.pkl 1134\n",
      "8665 1134 7531\n"
     ]
    },
    {
     "data": {
      "text/plain": [
       "33.087641731317106"
      ]
     },
     "execution_count": 5,
     "metadata": {},
     "output_type": "execute_result"
    }
   ],
   "source": [
    "# dynamic time warping distance of the Hunback of Notre Dame movie and story\n",
    "dist(sent_df('hunchback3.pkl'), sent_df('hunchback_script3.pkl'))"
   ]
  },
  {
   "cell_type": "markdown",
   "metadata": {},
   "source": [
    "### Sentiment Matrix\n",
    "<a id='sentiment2'></a>"
   ]
  },
  {
   "cell_type": "code",
   "execution_count": null,
   "metadata": {},
   "outputs": [],
   "source": [
    "def dist(df1, df2):\n",
    "    path, dist = dtw_path(df1, df2)\n",
    "    return dist\n",
    "\n",
    "name_list = ['alice3.pkl', 'mulan3.pkl', 'aladdin3.pkl', 'dalmations3.pkl', 'bambi3.pkl', 'beauty3.pkl', \n",
    "        'cinderella3.pkl', 'hunchback3.pkl', 'little_mermaid3.pkl', 'peter_pan3.pkl', 'pinocchio3.pkl',\n",
    "        'rapunzel3.pkl', 'robin_hood3.pkl', 'sleeping_beauty3.pkl', 'snow_white3.pkl', 'tarzan3.pkl', 'winnie_the_pooh3.pkl',\n",
    "        'alice_script3.pkl', 'mulan_script3.pkl', 'aladdin_script3.pkl', '101dalmations_script3.pkl', 'bambi_script3.pkl',\n",
    "        'beauty_script3.pkl', 'cinderella_disney3.pkl', 'hunchback_script3.pkl', 'little_mermaid_script3.pkl', 'peter_pan_script3.pkl',\n",
    "        'pinocchio_script3.pkl', 'rapunzel_disney3.pkl', 'robin_hood_script3.pkl', 'sleeping_beauty_disney3.pkl', 'snow_white_disney3.pkl',\n",
    "        'tarzan_script3.pkl', 'winnie_the_pooh_script3.pkl']\n",
    "\n",
    "#matrix of dynamic time warping distances among two texts\n",
    "distances = np.zeros(shape=(len(name_list), len(name_list)))\n",
    "for i in range(len(name_list)):\n",
    "    for j in range(i):\n",
    "        distances[i, j] = dist(df[name_list[i]], df[name_list[j]])\n",
    "\n",
    "#save sentiment matrix to pkl file\n",
    "with open('sentiment_matrix.pkl', 'wb') as pkl:\n",
    "    pickle.dump(distances, pkl)"
   ]
  },
  {
   "cell_type": "markdown",
   "metadata": {},
   "source": [
    "## NMF Topic Modeling w/ Cosine Similarity\n",
    "<a id='nmf'></a>"
   ]
  },
  {
   "cell_type": "code",
   "execution_count": null,
   "metadata": {},
   "outputs": [],
   "source": [
    "import pandas as pd\n",
    "from sklearn.feature_extraction.text import CountVectorizer \n",
    "from sklearn.decomposition import TruncatedSVD\n",
    "from sklearn.decomposition import NMF\n",
    "from sklearn.metrics.pairwise import cosine_similarity\n",
    "import pickle\n",
    "from sklearn.feature_extraction.text import TfidfVectorizer\n",
    "from sklearn.feature_extraction import text \n",
    "import nltk"
   ]
  },
  {
   "cell_type": "code",
   "execution_count": null,
   "metadata": {},
   "outputs": [],
   "source": [
    "#function to tokenize on the word level and keep only nouns and adjectives in text\n",
    "def acceptable(string):\n",
    "    tokens = nltk.word_tokenize(string)\n",
    "    tagged = nltk.pos_tag(tokens)\n",
    "    acceptable_words = []\n",
    "    for element in tagged:\n",
    "        if element[1] == 'JJ':\n",
    "            acceptable_words.append(element[0]) \n",
    "        elif element[1] == 'FW':\n",
    "            acceptable_words.append(element[0])\n",
    "        elif element[1] == 'NN':\n",
    "            acceptable_words.append(element[0])\n",
    "    return acceptable_words"
   ]
  },
  {
   "cell_type": "code",
   "execution_count": null,
   "metadata": {},
   "outputs": [],
   "source": [
    "#function to create a corpus of text of all scripts and movies and divide\n",
    "#them each into 100 chunks.\n",
    "def topics(list_of_pklfiles):\n",
    "    corpus = []\n",
    "    for pklfile in list_of_pklfiles:\n",
    "        with open(pklfile, 'rb') as pkl:\n",
    "            p = pickle.load(pkl)\n",
    "        aw = acceptable(p)\n",
    "        for n in range (0,100):\n",
    "            chunks = ' '.join(aw[n: (n+1)*len(aw)//100])\n",
    "            corpus.append(chunks)\n",
    "    df=pd.DataFrame(corpus, columns= ['text'])\n",
    "    return df"
   ]
  },
  {
   "cell_type": "code",
   "execution_count": null,
   "metadata": {},
   "outputs": [],
   "source": [
    "book = topics(['alice_lem.pkl', 'mulan_lem.pkl', 'aladdin_lem.pkl', 'dalmations_lem.pkl', 'bambi_lem.pkl', 'beauty_lem.pkl', \n",
    "        'cinderella_lem.pkl', 'hunchback_lem.pkl', 'little_mermaid_lem.pkl', 'peter_pan_lem.pkl', 'pinocchio_lem.pkl',\n",
    "        'rapunzel_lem.pkl', 'robin_hood_lem.pkl', 'sleeping_beauty_lem.pkl', 'snow_white_lem.pkl', 'tarzan_lem.pkl', 'winnie_the_pooh_lem.pkl'])"
   ]
  },
  {
   "cell_type": "code",
   "execution_count": null,
   "metadata": {},
   "outputs": [],
   "source": [
    "#instantiate TfidfVectorizer and exclude all english stop words.\n",
    "\n",
    "vectorizer = TfidfVectorizer(stop_words = 'english')\n",
    "doc_word = vectorizer.fit_transform(book.text)"
   ]
  },
  {
   "cell_type": "code",
   "execution_count": null,
   "metadata": {},
   "outputs": [],
   "source": [
    "#get 34 topics from the corpus\n",
    "nmf_model = NMF(34)\n",
    "doc_topic = nmf_model.fit_transform(doc_word)"
   ]
  },
  {
   "cell_type": "code",
   "execution_count": null,
   "metadata": {},
   "outputs": [],
   "source": [
    "#display the top 15 topics for each topic\n",
    "display_topics(nmf_model, vectorizer.get_feature_names(), 15)"
   ]
  },
  {
   "cell_type": "markdown",
   "metadata": {},
   "source": [
    "### Get weights for NMF Model\n",
    "<a id='weights'></a>"
   ]
  },
  {
   "cell_type": "code",
   "execution_count": null,
   "metadata": {},
   "outputs": [],
   "source": [
    "#create dataframe with rows as the 3400 pieces of segmented books/scripts \n",
    "#columns as the topic weights\n",
    "Vt = pd.DataFrame(doc_topic.round(5),\n",
    "             index = book,\n",
    "             columns = [\"topic0\",\"topic1\", \"topic2\", \"topic3\", \"topic4\",\n",
    "                        \"topic5\", \"topic6\", \"topic7\", \"topic8\", \"topic9\",\n",
    "                        \"topic10\", \"topic11\", \"topic12\", \"topic13\", \n",
    "                        \"topic14\", \"topic15\", \"topic16\", \"topic17\", \"topic18\", \"topic19\",\n",
    "                        \"topic20\", \"topic21\", \"topic22\", \"topic23\", \"topic24\", \"topic25\",\n",
    "                        \"topic26\", \"topic27\", \"topic28\", \"topic29\", \"topic30\", \"topic31\",\n",
    "                        \"topic32\", \"topic33\"])\n"
   ]
  },
  {
   "cell_type": "code",
   "execution_count": null,
   "metadata": {},
   "outputs": [],
   "source": [
    "#aggregate each of the 100 chunks back to their original script/story and \n",
    "#find the average of the weights\n",
    "\n",
    "import numpy as np\n",
    "\n",
    "series_list = []\n",
    "for i in range(0,34):\n",
    "    series = np.mean(Vt.iloc[i:(i+1)*100])\n",
    "    series_list.append(series)\n",
    "series_list"
   ]
  },
  {
   "cell_type": "code",
   "execution_count": null,
   "metadata": {},
   "outputs": [],
   "source": [
    "#new dataframe with aggregated weights of topics of original scripts/stories\n",
    "df_weights = pd.DataFrame.from_records(series_list)"
   ]
  },
  {
   "cell_type": "markdown",
   "metadata": {
    "ExecuteTime": {
     "end_time": "2019-09-17T00:29:56.390584Z",
     "start_time": "2019-09-17T00:29:56.388190Z"
    }
   },
   "source": [
    "### Cosine Similarity Scores\n",
    "<a id='cosine'></a>"
   ]
  },
  {
   "cell_type": "code",
   "execution_count": null,
   "metadata": {},
   "outputs": [],
   "source": [
    "''' name_list = ['alice3.pkl', 'mulan3.pkl', 'aladdin3.pkl', 'dalmations3.pkl', 'bambi3.pkl', 'beauty3.pkl', \n",
    "        'cinderella3.pkl', 'hunchback3.pkl', 'little_mermaid3.pkl', 'peter_pan3.pkl', 'pinocchio3.pkl',\n",
    "        'rapunzel3.pkl', 'robin_hood3.pkl', 'sleeping_beauty3.pkl', 'snow_white3.pkl', 'tarzan3.pkl', 'winnie_the_pooh3.pkl',\n",
    "        'alice_script3.pkl', 'mulan_script3.pkl', 'aladdin_script3.pkl', '101dalmations_script3.pkl', 'bambi_script3.pkl',\n",
    "        'beauty_script3.pkl', 'cinderella_disney3.pkl', 'hunchback_script3.pkl', 'little_mermaid_script3.pkl', 'peter_pan_script3.pkl',\n",
    "        'pinocchio_script3.pkl', 'rapunzel_disney3.pkl', 'robin_hood_script3.pkl', 'sleeping_beauty_disney3.pkl', 'snow_white_disney3.pkl',\n",
    "        'tarzan_script3.pkl', 'winnie_the_pooh_script3.pkl']'''\n",
    "#cosine similarity matrix that tells how similar one text is to another.\n",
    "cs = np.zeros(shape=(len(df_weights), len(df_weights)))\n",
    "for i in range(len(df_weights)):\n",
    "    for j in range(i):\n",
    "        cs[i,j] = cosine_similarity((df_weights.iloc[i], df_weights.iloc[j]))[0][1]\n",
    "\n",
    "#save cosine similarity matrix to pkl file\n",
    "with open('cosine_similarity_matrix.pkl', 'wb') as pkl:\n",
    "    pickle.dump(cs, pkl)"
   ]
  },
  {
   "cell_type": "markdown",
   "metadata": {},
   "source": [
    "## Recommendation System: Sentiment and Cosine Similarity Matrix\n",
    "<a id='recommendation'></a>"
   ]
  },
  {
   "cell_type": "code",
   "execution_count": null,
   "metadata": {},
   "outputs": [],
   "source": [
    "import pickle\n",
    "import sys\n",
    "import numpy\n",
    "numpy.set_printoptions(threshold=sys.maxsize)\n",
    "import pandas as pd"
   ]
  },
  {
   "cell_type": "code",
   "execution_count": null,
   "metadata": {},
   "outputs": [],
   "source": [
    "with open('sentiment_matrix.pkl', 'rb') as pkl:\n",
    "    s3 = pickle.load(pkl)"
   ]
  },
  {
   "cell_type": "code",
   "execution_count": null,
   "metadata": {},
   "outputs": [],
   "source": [
    "with open('cosine_similarity_matrix.pkl', 'rb') as pkl:\n",
    "    c3 = pickle.load(pkl)"
   ]
  },
  {
   "cell_type": "code",
   "execution_count": null,
   "metadata": {},
   "outputs": [],
   "source": [
    "#function allows user to input c and s, scalars that changes the weights\n",
    "#of the sentiment and cosine similarity matrix.\n",
    "#returns one recommendation, but can be adjusted to return more.\n",
    "\n",
    "def custom_recommender(s, c, pklfile):\n",
    "    #with open('sentiment_matrix.pkl', 'rb') as pkl:\n",
    "        #s3 = pickle.load(pkl)\n",
    "    #with open('cosine_similarity_matrix.pkl', 'rb') as pkl:\n",
    "        #c3 = pickle.load(pkl)\n",
    "    new = c*c3 - s*s3\n",
    "    scm = pd.DataFrame(data=new+new.T,    # values\n",
    "              index=['alice3.pkl', 'mulan3.pkl', 'aladdin3.pkl', 'dalmations3.pkl', 'bambi3.pkl', 'beauty3.pkl', \n",
    "        'cinderella3.pkl', 'hunchback3.pkl', 'little_mermaid3.pkl', 'peter_pan3.pkl', 'pinocchio3.pkl',\n",
    "        'rapunzel3.pkl', 'robin_hood3.pkl', 'sleeping_beauty3.pkl', 'snow_white3.pkl', 'tarzan3.pkl', 'winnie_the_pooh3.pkl',\n",
    "        'alice_script3.pkl', 'mulan_script3.pkl', 'aladdin_script3.pkl', '101dalmations_script3.pkl', 'bambi_script3.pkl',\n",
    "        'beauty_script3.pkl', 'cinderella_disney3.pkl', 'hunchback_script3.pkl', 'little_mermaid_script3.pkl', 'peter_pan_script3.pkl',\n",
    "        'pinocchio_script3.pkl', 'rapunzel_disney3.pkl', 'robin_hood_script3.pkl', 'sleeping_beauty_disney3.pkl', 'snow_white_disney3.pkl',\n",
    "        'tarzan_script3.pkl', 'winnie_the_pooh_script3.pkl'],    # 1st column as index\n",
    "              columns=['alice3.pkl', 'mulan3.pkl', 'aladdin3.pkl', 'dalmations3.pkl', 'bambi3.pkl', 'beauty3.pkl', \n",
    "        'cinderella3.pkl', 'hunchback3.pkl', 'little_mermaid3.pkl', 'peter_pan3.pkl', 'pinocchio3.pkl',\n",
    "        'rapunzel3.pkl', 'robin_hood3.pkl', 'sleeping_beauty3.pkl', 'snow_white3.pkl', 'tarzan3.pkl', 'winnie_the_pooh3.pkl',\n",
    "        'alice_script3.pkl', 'mulan_script3.pkl', 'aladdin_script3.pkl', '101dalmations_script3.pkl', 'bambi_script3.pkl',\n",
    "        'beauty_script3.pkl', 'cinderella_disney3.pkl', 'hunchback_script3.pkl', 'little_mermaid_script3.pkl', 'peter_pan_script3.pkl',\n",
    "        'pinocchio_script3.pkl', 'rapunzel_disney3.pkl', 'robin_hood_script3.pkl', 'sleeping_beauty_disney3.pkl', 'snow_white_disney3.pkl',\n",
    "        'tarzan_script3.pkl', 'winnie_the_pooh_script3.pkl'])\n",
    "    \n",
    "    return scm[pklfile].sort_values().tail(6).head(5).sort_values(ascending=False).head(1).index\n",
    "    "
   ]
  },
  {
   "cell_type": "code",
   "execution_count": null,
   "metadata": {},
   "outputs": [],
   "source": []
  }
 ],
 "metadata": {
  "kernelspec": {
   "display_name": "Python 3",
   "language": "python",
   "name": "python3"
  },
  "language_info": {
   "codemirror_mode": {
    "name": "ipython",
    "version": 3
   },
   "file_extension": ".py",
   "mimetype": "text/x-python",
   "name": "python",
   "nbconvert_exporter": "python",
   "pygments_lexer": "ipython3",
   "version": "3.7.3"
  },
  "toc": {
   "base_numbering": 1,
   "nav_menu": {},
   "number_sections": true,
   "sideBar": true,
   "skip_h1_title": false,
   "title_cell": "Table of Contents",
   "title_sidebar": "Contents",
   "toc_cell": false,
   "toc_position": {},
   "toc_section_display": true,
   "toc_window_display": false
  }
 },
 "nbformat": 4,
 "nbformat_minor": 2
}
